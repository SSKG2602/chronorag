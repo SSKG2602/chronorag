{
 "cells": [
  {
   "cell_type": "markdown",
   "metadata": {},
   "source": ["# ChronoRAG Scratchpad\nUse this notebook for exploratory experiments."]
  }
 ],
 "metadata": {
  "kernelspec": {
   "display_name": "Python 3",
   "language": "python",
   "name": "python3"
  },
  "language_info": {
   "name": "python",
   "version": "3.11"
  }
 },
 "nbformat": 4,
 "nbformat_minor": 5
}
